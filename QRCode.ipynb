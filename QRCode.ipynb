{
 "cells": [
  {
   "cell_type": "markdown",
   "metadata": {
    "id": "79MjgLcaGlCg"
   },
   "source": [
    "# QRcode/Barcode Scanner "
   ]
  },
  {
   "cell_type": "code",
   "execution_count": 3,
   "metadata": {},
   "outputs": [
    {
     "name": "stdout",
     "output_type": "stream",
     "text": [
      "Requirement already satisfied: Pillow in d:\\anacoda\\lib\\site-packages (8.4.0)\n"
     ]
    }
   ],
   "source": [
    "!pip install Pillow"
   ]
  },
  {
   "cell_type": "code",
   "execution_count": 1,
   "metadata": {
    "colab": {
     "base_uri": "https://localhost:8080/"
    },
    "id": "kc1X7UW-17ge",
    "outputId": "2e7b7b0a-03c9-414f-d58a-ec739795e0e0"
   },
   "outputs": [
    {
     "name": "stdout",
     "output_type": "stream",
     "text": [
      "Collecting pyzbar\n",
      "  Downloading pyzbar-0.1.9-py2.py3-none-win_amd64.whl (817 kB)\n",
      "Installing collected packages: pyzbar\n",
      "Successfully installed pyzbar-0.1.9\n"
     ]
    },
    {
     "name": "stderr",
     "output_type": "stream",
     "text": [
      "WARNING: Ignoring invalid distribution -ackaging (d:\\anacoda\\lib\\site-packages)\n"
     ]
    }
   ],
   "source": [
    "\n",
    "!pip install pyzbar\n"
   ]
  },
  {
   "cell_type": "code",
   "execution_count": 3,
   "metadata": {
    "id": "nIO320TA13Le"
   },
   "outputs": [],
   "source": [
    "import cv2\n",
    "from pyzbar import pyzbar"
   ]
  },
  {
   "cell_type": "code",
   "execution_count": 4,
   "metadata": {
    "id": "nIO320TA13Le"
   },
   "outputs": [],
   "source": [
    "def read_barcodes(frame):\n",
    "    barcodes = pyzbar.decode(frame)\n",
    "    for barcode in barcodes:\n",
    "        #1\n",
    "        x, y , w, h = barcode.rect\n",
    "        # x: data, y: type,h:rect,w:point\n",
    "        barcode_info = barcode.data.decode('utf-8')\n",
    "        cv2.rectangle(frame, (x,y),(x+w,y+h), (0, 255, 0), 2)\n",
    "        print(barcode_info)\n",
    "        #2\n",
    "        font = cv2.FONT_HERSHEY_SIMPLEX \n",
    "        cv2.putText(frame, barcode_info,(50,50),font, 2.0, (255, 255, 255), 1)\n",
    "    return frame"
   ]
  },
  {
   "cell_type": "code",
   "execution_count": 5,
   "metadata": {
    "id": "7fHH2kpn3IX2"
   },
   "outputs": [
    {
     "name": "stdout",
     "output_type": "stream",
     "text": [
      "محمد عادل محمود محمد جوده\n",
      "محمد عادل محمود محمد جوده\n",
      "محمد عادل محمود محمد جوده\n",
      "محمد عادل محمود محمد جوده\n",
      "محمد عادل محمود محمد جوده\n",
      "محمد عادل محمود محمد جوده\n",
      "محمد عادل محمود محمد جوده\n",
      "محمد عادل محمود محمد جوده\n"
     ]
    }
   ],
   "source": [
    "def main():\n",
    "    #1\n",
    "    camera = cv2.VideoCapture(0)\n",
    "    ret, frame = camera.read()\n",
    "    #2\n",
    "    while ret:\n",
    "        ret, frame = camera.read()\n",
    "        frame = cv2.flip(frame,1)\n",
    "        frame = read_barcodes(frame)\n",
    "        cv2.imshow('Barcode/QR code reader', frame)\n",
    "        if cv2.waitKey(1) & 0xFF == 27:\n",
    "            break\n",
    "    #3\n",
    "    camera.release()\n",
    "    cv2.destroyAllWindows()\n",
    "#4\n",
    "if __name__ == '__main__':\n",
    "    main()"
   ]
  },
  {
   "cell_type": "code",
   "execution_count": null,
   "metadata": {
    "collapsed": true
   },
   "outputs": [],
   "source": []
  }
 ],
 "metadata": {
  "colab": {
   "collapsed_sections": [],
   "name": "Barcode.ipynb",
   "provenance": []
  },
  "kernelspec": {
   "display_name": "Python 3 (ipykernel)",
   "language": "python",
   "name": "python3"
  },
  "language_info": {
   "codemirror_mode": {
    "name": "ipython",
    "version": 3
   },
   "file_extension": ".py",
   "mimetype": "text/x-python",
   "name": "python",
   "nbconvert_exporter": "python",
   "pygments_lexer": "ipython3",
   "version": "3.9.7"
  }
 },
 "nbformat": 4,
 "nbformat_minor": 1
}
